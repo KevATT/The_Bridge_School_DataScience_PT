{
  "nbformat": 4,
  "nbformat_minor": 0,
  "metadata": {
    "colab": {
      "name": "Calcul de calorias.ipynb",
      "provenance": [],
      "collapsed_sections": [],
      "authorship_tag": "ABX9TyM1RF0M1VGPpdUJyv8C2KBe",
      "include_colab_link": true
    },
    "kernelspec": {
      "name": "python3",
      "display_name": "Python 3"
    },
    "language_info": {
      "name": "python"
    }
  },
  "cells": [
    {
      "cell_type": "markdown",
      "metadata": {
        "id": "view-in-github",
        "colab_type": "text"
      },
      "source": [
        "<a href=\"https://colab.research.google.com/github/KevATT/The_Bridge_School_DataScience_PT/blob/main/Calcul_de_calorias.ipynb\" target=\"_parent\"><img src=\"https://colab.research.google.com/assets/colab-badge.svg\" alt=\"Open In Colab\"/></a>"
      ]
    },
    {
      "cell_type": "code",
      "metadata": {
        "colab": {
          "base_uri": "https://localhost:8080/"
        },
        "id": "lOIazWJI3WvP",
        "outputId": "13711bb3-746e-423f-8d8c-927a26b60c57"
      },
      "source": [
        "#Creamos la variable del contador\n",
        "print (\"¿Cual es la fecha de hoy\")"
      ],
      "execution_count": null,
      "outputs": [
        {
          "output_type": "stream",
          "text": [
            "¿Cual es la fecha de hoy\n"
          ],
          "name": "stdout"
        }
      ]
    },
    {
      "cell_type": "code",
      "metadata": {
        "colab": {
          "base_uri": "https://localhost:8080/"
        },
        "id": "4zr2f6MC4opQ",
        "outputId": "fae06bbc-e70a-46b7-852c-8d57a6e110b1"
      },
      "source": [
        "#para la fecha creamos una variable de tipo input\n",
        "date = input ()"
      ],
      "execution_count": null,
      "outputs": [
        {
          "output_type": "stream",
          "text": [
            "19 Mayo 2021\n"
          ],
          "name": "stdout"
        }
      ]
    },
    {
      "cell_type": "code",
      "metadata": {
        "colab": {
          "base_uri": "https://localhost:8080/",
          "height": 36
        },
        "id": "Z3Uxa2gf7kNi",
        "outputId": "0d3595ec-dc04-4369-97e0-b9c1eebb0751"
      },
      "source": [
        "date"
      ],
      "execution_count": null,
      "outputs": [
        {
          "output_type": "execute_result",
          "data": {
            "application/vnd.google.colaboratory.intrinsic+json": {
              "type": "string"
            },
            "text/plain": [
              "'19 Mayo 2021'"
            ]
          },
          "metadata": {
            "tags": []
          },
          "execution_count": 7
        }
      ]
    },
    {
      "cell_type": "code",
      "metadata": {
        "colab": {
          "base_uri": "https://localhost:8080/"
        },
        "id": "5CJnrgql8UD2",
        "outputId": "076051e8-5738-4bb0-88f3-4ccc4a03ed27"
      },
      "source": [
        " Desayuno = int (input ())"
      ],
      "execution_count": null,
      "outputs": [
        {
          "output_type": "stream",
          "text": [
            "359\n"
          ],
          "name": "stdout"
        }
      ]
    },
    {
      "cell_type": "code",
      "metadata": {
        "colab": {
          "base_uri": "https://localhost:8080/"
        },
        "id": "1k7XykRL-QAT",
        "outputId": "6933d33f-bbba-47d4-db71-1c520d3f0670"
      },
      "source": [
        "Desayuno"
      ],
      "execution_count": null,
      "outputs": [
        {
          "output_type": "execute_result",
          "data": {
            "text/plain": [
              "359"
            ]
          },
          "metadata": {
            "tags": []
          },
          "execution_count": 16
        }
      ]
    },
    {
      "cell_type": "code",
      "metadata": {
        "colab": {
          "base_uri": "https://localhost:8080/"
        },
        "id": "77k4hmI593Vr",
        "outputId": "dc50b909-7b9d-421a-d984-5c4edb7ae435"
      },
      "source": [
        "Comida = int (input())"
      ],
      "execution_count": null,
      "outputs": [
        {
          "output_type": "stream",
          "text": [
            "581\n"
          ],
          "name": "stdout"
        }
      ]
    },
    {
      "cell_type": "code",
      "metadata": {
        "colab": {
          "base_uri": "https://localhost:8080/"
        },
        "id": "FXixvUmi-Tzu",
        "outputId": "c5120318-9d05-4b19-ffcd-47a379ddb9c9"
      },
      "source": [
        "Comida"
      ],
      "execution_count": null,
      "outputs": [
        {
          "output_type": "execute_result",
          "data": {
            "text/plain": [
              "581"
            ]
          },
          "metadata": {
            "tags": []
          },
          "execution_count": 19
        }
      ]
    },
    {
      "cell_type": "code",
      "metadata": {
        "colab": {
          "base_uri": "https://localhost:8080/"
        },
        "id": "0466Xwaa-cWN",
        "outputId": "0323b81a-8af9-4fce-8696-d46ef8d1589a"
      },
      "source": [
        "Cena = int (input())"
      ],
      "execution_count": null,
      "outputs": [
        {
          "output_type": "stream",
          "text": [
            "374\n"
          ],
          "name": "stdout"
        }
      ]
    },
    {
      "cell_type": "code",
      "metadata": {
        "colab": {
          "base_uri": "https://localhost:8080/"
        },
        "id": "nGScIjIE-2Sh",
        "outputId": "c5ddc9df-6aeb-47b6-a22e-d7475300548e"
      },
      "source": [
        "Cena"
      ],
      "execution_count": null,
      "outputs": [
        {
          "output_type": "execute_result",
          "data": {
            "text/plain": [
              "374"
            ]
          },
          "metadata": {
            "tags": []
          },
          "execution_count": 25
        }
      ]
    },
    {
      "cell_type": "code",
      "metadata": {
        "colab": {
          "base_uri": "https://localhost:8080/"
        },
        "id": "D4iee-Mr_ZK_",
        "outputId": "c77e713e-d2d1-4d00-975d-59eda57738f5"
      },
      "source": [
        "Tentempiés = int (input())"
      ],
      "execution_count": null,
      "outputs": [
        {
          "output_type": "stream",
          "text": [
            "196\n"
          ],
          "name": "stdout"
        }
      ]
    },
    {
      "cell_type": "code",
      "metadata": {
        "colab": {
          "base_uri": "https://localhost:8080/"
        },
        "id": "MUDEF1ih_oa9",
        "outputId": "53c683aa-1c66-4d1c-8a97-4bbec1159252"
      },
      "source": [
        "Tentempiés"
      ],
      "execution_count": null,
      "outputs": [
        {
          "output_type": "execute_result",
          "data": {
            "text/plain": [
              "196"
            ]
          },
          "metadata": {
            "tags": []
          },
          "execution_count": 31
        }
      ]
    },
    {
      "cell_type": "code",
      "metadata": {
        "id": "ve3S-H6yAHcT"
      },
      "source": [
        "# Sumamos las variable "
      ],
      "execution_count": null,
      "outputs": []
    },
    {
      "cell_type": "code",
      "metadata": {
        "id": "r23wiYTmA8ST"
      },
      "source": [
        "#Sumar\n",
        "TotalCalorias = sum\n"
      ],
      "execution_count": null,
      "outputs": []
    },
    {
      "cell_type": "code",
      "metadata": {
        "id": "fEDQ13FhCeLs"
      },
      "source": [
        "sum = Cena + Tentempiés + Comida + Desayuno"
      ],
      "execution_count": null,
      "outputs": []
    },
    {
      "cell_type": "code",
      "metadata": {
        "colab": {
          "base_uri": "https://localhost:8080/"
        },
        "id": "8Lc5qI87Cn66",
        "outputId": "aa7a883f-7760-4608-ae04-9bebd86f7a97"
      },
      "source": [
        "TotalCalorias"
      ],
      "execution_count": null,
      "outputs": [
        {
          "output_type": "execute_result",
          "data": {
            "text/plain": [
              "1510"
            ]
          },
          "metadata": {
            "tags": []
          },
          "execution_count": 46
        }
      ]
    },
    {
      "cell_type": "code",
      "metadata": {
        "colab": {
          "base_uri": "https://localhost:8080/"
        },
        "id": "pyjN-wLKDPTn",
        "outputId": "3a046a0d-e9fb-4218-c932-101080a47cf9"
      },
      "source": [
        "#Output\n",
        "print(\"El total de las calorias de dia:\") \n",
        "TotalCalorias"
      ],
      "execution_count": null,
      "outputs": [
        {
          "output_type": "stream",
          "text": [
            "El total de las calorias de dia:\n"
          ],
          "name": "stdout"
        },
        {
          "output_type": "execute_result",
          "data": {
            "text/plain": [
              "1510"
            ]
          },
          "metadata": {
            "tags": []
          },
          "execution_count": 56
        }
      ]
    }
  ]
}