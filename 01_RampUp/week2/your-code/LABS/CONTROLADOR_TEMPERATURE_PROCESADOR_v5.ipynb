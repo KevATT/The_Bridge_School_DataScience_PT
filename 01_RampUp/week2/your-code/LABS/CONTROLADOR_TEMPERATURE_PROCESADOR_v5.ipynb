{
  "nbformat": 4,
  "nbformat_minor": 0,
  "metadata": {
    "colab": {
      "name": "CONTROLADOR TEMPERATURE PROCESADOR v5.ipynb",
      "provenance": [],
      "collapsed_sections": [
        "N5CGES9DF4JU",
        "3hqM0hD7-4Tq",
        "RaBBv7SlFR7F",
        "Qlbq2N-PEea2",
        "m0TJB22BDoLW",
        "ydtFIMzb5Hor",
        "RnJCvw4J1AWT"
      ]
    },
    "kernelspec": {
      "name": "python3",
      "display_name": "Python 3"
    },
    "language_info": {
      "name": "python"
    }
  },
  "cells": [
    {
      "cell_type": "markdown",
      "metadata": {
        "id": "N5CGES9DF4JU"
      },
      "source": [
        "# PROBLEMA"
      ]
    },
    {
      "cell_type": "code",
      "metadata": {
        "id": "TwLPAX4DI0pP"
      },
      "source": [
        "# 4 horas con temperaturas mayores o igual que 70ºC\n",
        "# Alguna temperatura superior a 80ºC\n",
        "#la media fuera superior a 65ºC"
      ],
      "execution_count": 15,
      "outputs": []
    },
    {
      "cell_type": "markdown",
      "metadata": {
        "id": "xJrXYj83JfcE"
      },
      "source": [
        "- 4 horas con temperaturas mayores o igual que 70ºC\n",
        "- Alguna temperatura superior a 80ºC\n",
        "- la media fuera superior a 65ºC"
      ]
    },
    {
      "cell_type": "code",
      "metadata": {
        "id": "7gWxlkK2TkwP"
      },
      "source": [
        "\n",
        "# asigna a una variable la lista de temperaturas\n",
        "temperaturas_C = [33,66,65,0,59,60,62,64,70,76,80,81,80,83,90,79,61,53,50,49,53,48,45,39]\n",
        "\n",
        "# 1. Calcula el minimo de la lista e imprime el valor con print()\n",
        "\n",
        "\n",
        "# 2. Calcula el máximo de la lista e imprime el valor con print()\n",
        "\n",
        "\n",
        "# 3. Elementos de la lista que son mayores que 70ºC e imprime el resultado\n",
        "\n",
        "\n",
        "# 4. cálculo de la media de temperaturas a lo largo del día e imprime resultado\n",
        "\n",
        "\n",
        "# 5.1 Soluciona el fallo en el sensor estimando un valor\n",
        "\n",
        "\n",
        "# 5.2 Actualización del valor estimado a las 03:00 en la lista\n",
        "\n",
        "\n",
        "# Bonus: pasar la lista de ºC a grados Farenheit"
      ],
      "execution_count": 16,
      "outputs": []
    },
    {
      "cell_type": "code",
      "metadata": {
        "id": "rdBgsL3NIzn7"
      },
      "source": [
        ""
      ],
      "execution_count": null,
      "outputs": []
    },
    {
      "cell_type": "markdown",
      "metadata": {
        "id": "3hqM0hD7-4Tq"
      },
      "source": [
        "#import/library"
      ]
    },
    {
      "cell_type": "code",
      "metadata": {
        "id": "uSvLoKZvUuv9"
      },
      "source": [
        "# imports\n",
        "import matplotlib.pyplot as plt\n",
        "%matplotlib inline"
      ],
      "execution_count": 88,
      "outputs": []
    },
    {
      "cell_type": "code",
      "metadata": {
        "id": "nmzzOQ5zwODf"
      },
      "source": [
        "# asigna a una variable la lista de temperaturas\n",
        "temperaturas_C = [33,66,65,0,59,60,62,64,70,76,80,81,80,83,90,79,61,53,50,49,53,48,45,39]"
      ],
      "execution_count": 99,
      "outputs": []
    },
    {
      "cell_type": "markdown",
      "metadata": {
        "id": "RaBBv7SlFR7F"
      },
      "source": [
        "#1 / 2- LAS TEMPERATURAS MINIMA Y MAXIMA"
      ]
    },
    {
      "cell_type": "code",
      "metadata": {
        "colab": {
          "base_uri": "https://localhost:8080/"
        },
        "id": "249n0M0EVCI8",
        "outputId": "1d9ca6cc-c269-413a-c02b-1075dd8ff39b"
      },
      "source": [
        "# 1. Calcula el minimo de la lista e imprime el valor con print()\n",
        "print(\"la temperatura minimal es : \")\n",
        "min(temperaturas_C)"
      ],
      "execution_count": 91,
      "outputs": [
        {
          "output_type": "stream",
          "text": [
            "la temperatura minimal es : \n"
          ],
          "name": "stdout"
        },
        {
          "output_type": "execute_result",
          "data": {
            "text/plain": [
              "0"
            ]
          },
          "metadata": {
            "tags": []
          },
          "execution_count": 91
        }
      ]
    },
    {
      "cell_type": "code",
      "metadata": {
        "colab": {
          "base_uri": "https://localhost:8080/"
        },
        "id": "LazbqQP8XdSB",
        "outputId": "b361a377-3556-457d-9c46-4a3515a8d79f"
      },
      "source": [
        "# 2. Calcula el máximo de la lista e imprime el valor con print()\n",
        "print(\"la temperatura maximal es : \")\n",
        "max(temperaturas_C)"
      ],
      "execution_count": 92,
      "outputs": [
        {
          "output_type": "stream",
          "text": [
            "la temperatura maximal es : \n"
          ],
          "name": "stdout"
        },
        {
          "output_type": "execute_result",
          "data": {
            "text/plain": [
              "90"
            ]
          },
          "metadata": {
            "tags": []
          },
          "execution_count": 92
        }
      ]
    },
    {
      "cell_type": "markdown",
      "metadata": {
        "id": "Qlbq2N-PEea2"
      },
      "source": [
        "# 3 - LAS TEMPERATURAS  >= 70ªC  ;  = 80ºC"
      ]
    },
    {
      "cell_type": "code",
      "metadata": {
        "id": "pSPf-tz_Uw7l"
      },
      "source": [
        "# Elementos de la lista que son mayores que 70ºC e imprime el resultado\n",
        "# Definicemos las variables de la temperatura limite\n",
        "limite_temp = 70\n",
        "alert_temp = 80\n",
        "temp_media_limite = 65"
      ],
      "execution_count": 22,
      "outputs": []
    },
    {
      "cell_type": "markdown",
      "metadata": {
        "id": "Buafp7VrNvHr"
      },
      "source": [
        "- LISTA DE LAS TEMPERATURAS IGUALES O SUPERIORES A 70ºC"
      ]
    },
    {
      "cell_type": "code",
      "metadata": {
        "colab": {
          "base_uri": "https://localhost:8080/"
        },
        "id": "ynn2QU3kCiwO",
        "outputId": "4ff9d5cd-f1e2-4d8e-c758-ec7a233af4af"
      },
      "source": [
        "# Imprimir las temperaturas iguales o superior a 70 grados\n",
        "temp_sup_70 =[]\n",
        "for temp_C in temperaturas_C:\n",
        "  if int(temp_C) >= limite_temp:\n",
        "    temp_sup_70.append(temp_C)\n",
        "print(\"temperaturas superiores o igual a 70º son:\",temp_sup_70)\n",
        " "
      ],
      "execution_count": 199,
      "outputs": [
        {
          "output_type": "stream",
          "text": [
            "temperaturas superiores o igual a 70º son: [70, 76, 80, 81, 80, 83, 90, 79]\n"
          ],
          "name": "stdout"
        }
      ]
    },
    {
      "cell_type": "markdown",
      "metadata": {
        "id": "NK8inderyCWR"
      },
      "source": [
        "- DECTECCIÓN DE UNA TEMPERATURA IGUAL A 80º"
      ]
    },
    {
      "cell_type": "code",
      "metadata": {
        "colab": {
          "base_uri": "https://localhost:8080/"
        },
        "id": "nb7WIDG0soAp",
        "outputId": "809e91f9-fbaf-4868-8960-7da7694dbf68"
      },
      "source": [
        "#Definicemos las variables de la temperatura de alerta\n",
        "\n",
        "#Verificamos si aler_temp es miembro de \n",
        "alert_temp in temperaturas_C"
      ],
      "execution_count": 196,
      "outputs": [
        {
          "output_type": "execute_result",
          "data": {
            "text/plain": [
              "True"
            ]
          },
          "metadata": {
            "tags": []
          },
          "execution_count": 196
        }
      ]
    },
    {
      "cell_type": "code",
      "metadata": {
        "colab": {
          "base_uri": "https://localhost:8080/"
        },
        "id": "6rHbIauLsqT7",
        "outputId": "2f2ab30c-ff32-40fd-d682-8547e96d59bd"
      },
      "source": [
        "temp_igual_80 =[]\n",
        "for temp_C in temperaturas_C:\n",
        "  if int(temp_C) == alert_temp:\n",
        "    temp_igual_80.append(temp_C)\n",
        "print(\" ******** WARNING!************\")\n",
        "print(\"hemos detectado una temperatura igual a 80º ,\")\n",
        "print(\"cambiar el generador\")"
      ],
      "execution_count": 217,
      "outputs": [
        {
          "output_type": "stream",
          "text": [
            " ******** WARNING!************\n",
            "hemos detectado una temperatura igual a 80º ,\n",
            "cambiar el generador\n"
          ],
          "name": "stdout"
        }
      ]
    },
    {
      "cell_type": "markdown",
      "metadata": {
        "id": "m0TJB22BDoLW"
      },
      "source": [
        "#4 - MEDIA DE LA TEMPERATURA A LO LARGO DEL DIA"
      ]
    },
    {
      "cell_type": "code",
      "metadata": {
        "colab": {
          "base_uri": "https://localhost:8080/"
        },
        "id": "IKJzTEFcF3kV",
        "outputId": "ea013c91-a3d4-455d-97a6-db6297b25e0d"
      },
      "source": [
        "#Definimos la variable de la suma de todas las temperaturas relevadas\n",
        "Sum_temp = sum(temperaturas_C)\n",
        "Sum_temp"
      ],
      "execution_count": 95,
      "outputs": [
        {
          "output_type": "execute_result",
          "data": {
            "text/plain": [
              "1446"
            ]
          },
          "metadata": {
            "tags": []
          },
          "execution_count": 95
        }
      ]
    },
    {
      "cell_type": "code",
      "metadata": {
        "colab": {
          "base_uri": "https://localhost:8080/"
        },
        "id": "WZ6DOORlGpMf",
        "outputId": "5cdbe001-cbb0-4a74-ac04-8700ed5810b6"
      },
      "source": [
        "#Definimos la variable del numero de temperaturas relevadas\n",
        "Num_temp = len(temperaturas_C)\n",
        "Num_temp"
      ],
      "execution_count": 100,
      "outputs": [
        {
          "output_type": "execute_result",
          "data": {
            "text/plain": [
              "24"
            ]
          },
          "metadata": {
            "tags": []
          },
          "execution_count": 100
        }
      ]
    },
    {
      "cell_type": "code",
      "metadata": {
        "colab": {
          "base_uri": "https://localhost:8080/"
        },
        "id": "TTDbpfZrpWRp",
        "outputId": "7811448f-9bc1-4b5a-b46b-7fc19dc7e548"
      },
      "source": [
        "#4. cálculo de la media de temperaturas a lo largo del día e imprime resultado\n",
        "media_temp_D = Sum_temp /Num_temp\n",
        "print(\"la media de las temperaturas del dia es:\")\n",
        "Sum_temp /Num_temp"
      ],
      "execution_count": 228,
      "outputs": [
        {
          "output_type": "stream",
          "text": [
            "la media de las temperaturas del dia es:\n"
          ],
          "name": "stdout"
        },
        {
          "output_type": "execute_result",
          "data": {
            "text/plain": [
              "60.25"
            ]
          },
          "metadata": {
            "tags": []
          },
          "execution_count": 228
        }
      ]
    },
    {
      "cell_type": "markdown",
      "metadata": {
        "id": "P9slsn-HbhbA"
      },
      "source": [
        "La media de la temperaturas del dia no es superior a 65ºC"
      ]
    },
    {
      "cell_type": "markdown",
      "metadata": {
        "id": "ydtFIMzb5Hor"
      },
      "source": [
        "# 5 ESTIMACIÓN DE LA TEMPERATURA A LAS 03:00"
      ]
    },
    {
      "cell_type": "markdown",
      "metadata": {
        "id": "mk1xm5lkOTwN"
      },
      "source": [
        "- Lista de las  temperaturas en funcion de la hora"
      ]
    },
    {
      "cell_type": "code",
      "metadata": {
        "colab": {
          "base_uri": "https://localhost:8080/"
        },
        "id": "HWDV2ohknOzd",
        "outputId": "dd2dd2d8-d987-4cfc-fc14-e7df6dceff78"
      },
      "source": [
        "#Indexamos la temperaturas en funccion de las 24 horas suponiendo el Orden de 0 a 23\n",
        "list(temperaturas_C)\n",
        "index= 0\n",
        "for temp_C in temperaturas_C:\n",
        "  print(\"a\",index,\"h\", temp_C, \"Cº\")\n",
        "  index += 1"
      ],
      "execution_count": 218,
      "outputs": [
        {
          "output_type": "stream",
          "text": [
            "a 0 h 33 Cº\n",
            "a 1 h 66 Cº\n",
            "a 2 h 65 Cº\n",
            "a 3 h 0 Cº\n",
            "a 4 h 59 Cº\n",
            "a 5 h 60 Cº\n",
            "a 6 h 62 Cº\n",
            "a 7 h 64 Cº\n",
            "a 8 h 70 Cº\n",
            "a 9 h 76 Cº\n",
            "a 10 h 80 Cº\n",
            "a 11 h 81 Cº\n",
            "a 12 h 80 Cº\n",
            "a 13 h 83 Cº\n",
            "a 14 h 90 Cº\n",
            "a 15 h 79 Cº\n",
            "a 16 h 61 Cº\n",
            "a 17 h 53 Cº\n",
            "a 18 h 50 Cº\n",
            "a 19 h 49 Cº\n",
            "a 20 h 53 Cº\n",
            "a 21 h 48 Cº\n",
            "a 22 h 45 Cº\n",
            "a 23 h 39 Cº\n"
          ],
          "name": "stdout"
        }
      ]
    },
    {
      "cell_type": "code",
      "metadata": {
        "id": "ZOraTJ5v4lKx"
      },
      "source": [
        ""
      ],
      "execution_count": null,
      "outputs": []
    },
    {
      "cell_type": "markdown",
      "metadata": {
        "id": "F-T5O_OLzd2E"
      },
      "source": [
        "- La temperatura a las 03:00 de la mañana"
      ]
    },
    {
      "cell_type": "code",
      "metadata": {
        "colab": {
          "base_uri": "https://localhost:8080/"
        },
        "id": "FDMXb8DBnOf0",
        "outputId": "170dcffd-70f2-4c81-8cbf-82c44ab0d569"
      },
      "source": [
        "#Valor de la temperatura monstrado por el sensor a las 03:00\n",
        "temperaturas_C[3]"
      ],
      "execution_count": 219,
      "outputs": [
        {
          "output_type": "execute_result",
          "data": {
            "text/plain": [
              "0"
            ]
          },
          "metadata": {
            "tags": []
          },
          "execution_count": 219
        }
      ]
    },
    {
      "cell_type": "code",
      "metadata": {
        "colab": {
          "base_uri": "https://localhost:8080/"
        },
        "id": "cB4GzA_Kx0Sk",
        "outputId": "38b4bce9-e3a5-4ca9-93b2-f06d36be7f0a"
      },
      "source": [
        "#Estimacion del valor de la tempertura a las 3 horas\n",
        "#Definimos Temp_H3 la temperatura a la 3 de la mañana\n",
        "#Temp_H3 sera la media entre la temperatura de las 2h y de la 4h\n",
        "\n",
        "Temp_H3 = (temperaturas_C[2] + temperaturas_C[4])/(2)\n",
        "print(\"La estimacion de la temperatura a las 3 de la mañana es: \",Temp_H3)\n"
      ],
      "execution_count": 220,
      "outputs": [
        {
          "output_type": "stream",
          "text": [
            "La estimacion de la temperatura a las 3 de la mañana es:  62.0\n"
          ],
          "name": "stdout"
        }
      ]
    },
    {
      "cell_type": "markdown",
      "metadata": {
        "id": "RnJCvw4J1AWT"
      },
      "source": [
        "#6 - CONVERSION DE LA TEMPERATURA"
      ]
    },
    {
      "cell_type": "code",
      "metadata": {
        "colab": {
          "base_uri": "https://localhost:8080/"
        },
        "id": "fbc5F7KR1JAc",
        "outputId": "8af2d7d5-d247-4f2d-ed6d-66c88e179f10"
      },
      "source": [
        "## Fórmula: F = 1.8 * C + 32\n",
        "temperaturas_C[9]"
      ],
      "execution_count": 189,
      "outputs": [
        {
          "output_type": "execute_result",
          "data": {
            "text/plain": [
              "76"
            ]
          },
          "metadata": {
            "tags": []
          },
          "execution_count": 189
        }
      ]
    },
    {
      "cell_type": "code",
      "metadata": {
        "id": "z5GTMuAl2I1t",
        "colab": {
          "base_uri": "https://localhost:8080/"
        },
        "outputId": "fbc44583-5be8-4bd9-9307-46a190c81e97"
      },
      "source": [
        "#Test de la formula en un valor de la lista\n",
        "## conversion de la temperatura de las 6 de ma mañana \n",
        "F= 1.8*float(temperaturas_C[9])+32\n",
        "F"
      ],
      "execution_count": 188,
      "outputs": [
        {
          "output_type": "execute_result",
          "data": {
            "text/plain": [
              "168.8"
            ]
          },
          "metadata": {
            "tags": []
          },
          "execution_count": 188
        }
      ]
    },
    {
      "cell_type": "markdown",
      "metadata": {
        "id": "H9Al8qgL4wui"
      },
      "source": [
        "##Conversion de la lista en F"
      ]
    },
    {
      "cell_type": "code",
      "metadata": {
        "id": "Jw8rqQiQ4vzr",
        "colab": {
          "base_uri": "https://localhost:8080/"
        },
        "outputId": "283dcac5-06d6-434f-8b06-73f8c283ac17"
      },
      "source": [
        "import numpy as np\n",
        "Temp_F = np.array(temperaturas_C)*1.8+32\n",
        "Temp_F"
      ],
      "execution_count": 187,
      "outputs": [
        {
          "output_type": "execute_result",
          "data": {
            "text/plain": [
              "array([ 91.4, 150.8, 149. ,  32. , 138.2, 140. , 143.6, 147.2, 158. ,\n",
              "       168.8, 176. , 177.8, 176. , 181.4, 194. , 174.2, 141.8, 127.4,\n",
              "       122. , 120.2, 127.4, 118.4, 113. , 102.2])"
            ]
          },
          "metadata": {
            "tags": []
          },
          "execution_count": 187
        }
      ]
    },
    {
      "cell_type": "code",
      "metadata": {
        "colab": {
          "base_uri": "https://localhost:8080/"
        },
        "id": "VGz4gZyOkHTA",
        "outputId": "c529558e-72de-4d82-8a4c-46728552c8e5"
      },
      "source": [
        "#Lista de la temperaturas_convertidas a Fº\n",
        "index= 0\n",
        "for convtp in Temp_F:\n",
        "  print(\"at\",index,\"h\",convtp, \"Fº\")\n",
        "  index+=1\n",
        "  \n"
      ],
      "execution_count": 209,
      "outputs": [
        {
          "output_type": "stream",
          "text": [
            "at 0 h 91.4 Fº\n",
            "at 1 h 150.8 Fº\n",
            "at 2 h 149.0 Fº\n",
            "at 3 h 32.0 Fº\n",
            "at 4 h 138.2 Fº\n",
            "at 5 h 140.0 Fº\n",
            "at 6 h 143.60000000000002 Fº\n",
            "at 7 h 147.2 Fº\n",
            "at 8 h 158.0 Fº\n",
            "at 9 h 168.8 Fº\n",
            "at 10 h 176.0 Fº\n",
            "at 11 h 177.8 Fº\n",
            "at 12 h 176.0 Fº\n",
            "at 13 h 181.4 Fº\n",
            "at 14 h 194.0 Fº\n",
            "at 15 h 174.20000000000002 Fº\n",
            "at 16 h 141.8 Fº\n",
            "at 17 h 127.4 Fº\n",
            "at 18 h 122.0 Fº\n",
            "at 19 h 120.2 Fº\n",
            "at 20 h 127.4 Fº\n",
            "at 21 h 118.4 Fº\n",
            "at 22 h 113.0 Fº\n",
            "at 23 h 102.2 Fº\n"
          ],
          "name": "stdout"
        }
      ]
    },
    {
      "cell_type": "code",
      "metadata": {
        "id": "dBYQ0Rcx0pTB"
      },
      "source": [
        ""
      ],
      "execution_count": null,
      "outputs": []
    },
    {
      "cell_type": "markdown",
      "metadata": {
        "id": "wvjy1ddyz8y8"
      },
      "source": [
        "#*Conclusión*\n"
      ]
    },
    {
      "cell_type": "code",
      "metadata": {
        "colab": {
          "base_uri": "https://localhost:8080/"
        },
        "id": "OxWENcpS0lMc",
        "outputId": "283d31c4-be6d-4301-a6dc-47f67984fe4c"
      },
      "source": [
        "#4. cálculo de la media de temperaturas a lo largo del día e imprime resultado\n",
        "print(\"la media de las temperaturas del dia es:\")\n",
        "Sum_temp /Num_temp\n"
      ],
      "execution_count": 229,
      "outputs": [
        {
          "output_type": "stream",
          "text": [
            "la media de las temperaturas del dia es:\n"
          ],
          "name": "stdout"
        },
        {
          "output_type": "execute_result",
          "data": {
            "text/plain": [
              "60.25"
            ]
          },
          "metadata": {
            "tags": []
          },
          "execution_count": 229
        }
      ]
    },
    {
      "cell_type": "code",
      "metadata": {
        "colab": {
          "base_uri": "https://localhost:8080/"
        },
        "id": "iZSqkWKI0Yf8",
        "outputId": "ffdbd914-c24c-40bd-81de-0ed9a4cac98d"
      },
      "source": [
        "# Imprimir las temperaturas iguales o superior a 70 grados\n",
        "temp_sup_70 =[]\n",
        "for temp_C in temperaturas_C:\n",
        "  if int(temp_C) >= limite_temp:\n",
        "    temp_sup_70.append(temp_C)\n",
        "print(\"temperaturas superiores o igual a 70º son:\",temp_sup_70)"
      ],
      "execution_count": 225,
      "outputs": [
        {
          "output_type": "stream",
          "text": [
            "temperaturas superiores o igual a 70º son: [70, 76, 80, 81, 80, 83, 90, 79]\n"
          ],
          "name": "stdout"
        }
      ]
    },
    {
      "cell_type": "code",
      "metadata": {
        "colab": {
          "base_uri": "https://localhost:8080/"
        },
        "id": "NwQDeoj80TG0",
        "outputId": "4f5dac75-7a3b-4159-e88b-175bbc61a99f"
      },
      "source": [
        "temp_igual_80 =[]\n",
        "for temp_C in temperaturas_C:\n",
        "  if int(temp_C) == alert_temp:\n",
        "    temp_igual_80.append(temp_C)\n",
        "print(\" ******** WARNING!************\")\n",
        "print(\"hemos detectado una temperatura igual a 80º ,\")\n",
        "print(\"cambiar el generador\")"
      ],
      "execution_count": 227,
      "outputs": [
        {
          "output_type": "stream",
          "text": [
            " ******** WARNING!************\n",
            "hemos detectado una temperatura igual a 80º ,\n",
            "cambiar el generador\n"
          ],
          "name": "stdout"
        }
      ]
    },
    {
      "cell_type": "code",
      "metadata": {
        "id": "uFymu7Pl0xbF"
      },
      "source": [
        ""
      ],
      "execution_count": null,
      "outputs": []
    }
  ]
}