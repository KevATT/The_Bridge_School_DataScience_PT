{
  "nbformat": 4,
  "nbformat_minor": 0,
  "metadata": {
    "colab": {
      "name": "CONTROLADOR TEMPERATURE PROCESADOR.ipynb",
      "provenance": [],
      "collapsed_sections": [
        "N5CGES9DF4JU",
        "RaBBv7SlFR7F",
        "Qlbq2N-PEea2",
        "m0TJB22BDoLW",
        "ydtFIMzb5Hor",
        "mk1xm5lkOTwN",
        "F-T5O_OLzd2E",
        "RnJCvw4J1AWT"
      ]
    },
    "kernelspec": {
      "name": "python3",
      "display_name": "Python 3"
    },
    "language_info": {
      "name": "python"
    }
  },
  "cells": [
    {
      "cell_type": "markdown",
      "metadata": {
        "id": "N5CGES9DF4JU"
      },
      "source": [
        "# PROBLEMA"
      ]
    },
    {
      "cell_type": "code",
      "metadata": {
        "id": "TwLPAX4DI0pP"
      },
      "source": [
        "# 4 horas con temperaturas mayores o igual que 70ºC\n",
        "# Alguna temperatura superior a 80ºC\n",
        "#la media fuera superior a 65ºC"
      ],
      "execution_count": 139,
      "outputs": []
    },
    {
      "cell_type": "markdown",
      "metadata": {
        "id": "xJrXYj83JfcE"
      },
      "source": [
        "- 4 horas con temperaturas mayores o igual que 70ºC\n",
        "- Alguna temperatura superior a 80ºC\n",
        "- la media fuera superior a 65ºC"
      ]
    },
    {
      "cell_type": "code",
      "metadata": {
        "id": "7gWxlkK2TkwP"
      },
      "source": [
        "\n",
        "# asigna a una variable la lista de temperaturas\n",
        "temperaturas_C = [33,66,65,0,59,60,62,64,70,76,80,81,80,83,90,79,61,53,50,49,53,48,45,39]\n",
        "\n",
        "# 1. Calcula el minimo de la lista e imprime el valor con print()\n",
        "\n",
        "\n",
        "# 2. Calcula el máximo de la lista e imprime el valor con print()\n",
        "\n",
        "\n",
        "# 3. Elementos de la lista que son mayores que 70ºC e imprime el resultado\n",
        "\n",
        "\n",
        "# 4. cálculo de la media de temperaturas a lo largo del día e imprime resultado\n",
        "\n",
        "\n",
        "# 5.1 Soluciona el fallo en el sensor estimando un valor\n",
        "\n",
        "\n",
        "# 5.2 Actualización del valor estimado a las 03:00 en la lista\n",
        "\n",
        "\n",
        "# Bonus: pasar la lista de ºC a grados Farenheit"
      ],
      "execution_count": 140,
      "outputs": []
    },
    {
      "cell_type": "code",
      "metadata": {
        "id": "rdBgsL3NIzn7"
      },
      "source": [
        ""
      ],
      "execution_count": 140,
      "outputs": []
    },
    {
      "cell_type": "code",
      "metadata": {
        "id": "nmzzOQ5zwODf"
      },
      "source": [
        "# asigna a una variable la lista de temperaturas\n",
        "temperaturas_C = [33,66,65,0,59,60,62,64,70,76,80,81,80,83,90,79,61,53,50,49,53,48,45,39]"
      ],
      "execution_count": 103,
      "outputs": []
    },
    {
      "cell_type": "markdown",
      "metadata": {
        "id": "3hqM0hD7-4Tq"
      },
      "source": [
        "#import/library"
      ]
    },
    {
      "cell_type": "code",
      "metadata": {
        "id": "uSvLoKZvUuv9"
      },
      "source": [
        "# imports\n",
        "import matplotlib.pyplot as plt\n",
        "%matplotlib inline"
      ],
      "execution_count": 102,
      "outputs": []
    },
    {
      "cell_type": "markdown",
      "metadata": {
        "id": "RaBBv7SlFR7F"
      },
      "source": [
        "#1 - LAS MINIMA Y MAXIMA"
      ]
    },
    {
      "cell_type": "code",
      "metadata": {
        "colab": {
          "base_uri": "https://localhost:8080/"
        },
        "id": "249n0M0EVCI8",
        "outputId": "a201d457-6de6-4646-865b-909949944a6d"
      },
      "source": [
        "# 1. Calcula el minimo de la lista e imprime el valor con print()\n",
        "print(\"la temperatura minimal es : \")\n",
        "min(temperaturas_C)"
      ],
      "execution_count": 35,
      "outputs": [
        {
          "output_type": "stream",
          "text": [
            "la temperatura minimal es : \n"
          ],
          "name": "stdout"
        },
        {
          "output_type": "execute_result",
          "data": {
            "text/plain": [
              "0"
            ]
          },
          "metadata": {
            "tags": []
          },
          "execution_count": 35
        }
      ]
    },
    {
      "cell_type": "code",
      "metadata": {
        "colab": {
          "base_uri": "https://localhost:8080/"
        },
        "id": "LazbqQP8XdSB",
        "outputId": "38bcf746-1a26-46bd-f105-9b2c640571ee"
      },
      "source": [
        "# 2. Calcula el máximo de la lista e imprime el valor con print()\n",
        "print(\"la temperatura maximal es : \")\n",
        "max(temperaturas_C)"
      ],
      "execution_count": 36,
      "outputs": [
        {
          "output_type": "stream",
          "text": [
            "la temperatura maximal es : \n"
          ],
          "name": "stdout"
        },
        {
          "output_type": "execute_result",
          "data": {
            "text/plain": [
              "90"
            ]
          },
          "metadata": {
            "tags": []
          },
          "execution_count": 36
        }
      ]
    },
    {
      "cell_type": "markdown",
      "metadata": {
        "id": "Qlbq2N-PEea2"
      },
      "source": [
        "# 2 - TEMPERATURA Y ALERTA"
      ]
    },
    {
      "cell_type": "code",
      "metadata": {
        "id": "pSPf-tz_Uw7l"
      },
      "source": [
        "# 3. Elementos de la lista que son mayores que 70ºC e imprime el resultado\n",
        "\n",
        "# Definicemos las variables de la temperatura limite\n",
        "limite_temp = 70\n",
        "\n",
        "#Definicemos las variables de la temperatura de alerta\n",
        "alert_temp = 80"
      ],
      "execution_count": 76,
      "outputs": []
    },
    {
      "cell_type": "code",
      "metadata": {
        "colab": {
          "base_uri": "https://localhost:8080/"
        },
        "id": "nb7WIDG0soAp",
        "outputId": "cbf94f46-b025-41e1-9c8d-3e72dd3580be"
      },
      "source": [
        "alert_temp in temperaturas_C"
      ],
      "execution_count": 161,
      "outputs": [
        {
          "output_type": "execute_result",
          "data": {
            "text/plain": [
              "True"
            ]
          },
          "metadata": {
            "tags": []
          },
          "execution_count": 161
        }
      ]
    },
    {
      "cell_type": "code",
      "metadata": {
        "colab": {
          "base_uri": "https://localhost:8080/"
        },
        "id": "0gWZ-VoPtAtn",
        "outputId": "0693dec7-fa63-4de7-efde-7ec22d8bb4e2"
      },
      "source": [
        "(alert_temp) in temperaturas_C"
      ],
      "execution_count": 160,
      "outputs": [
        {
          "output_type": "execute_result",
          "data": {
            "text/plain": [
              "True"
            ]
          },
          "metadata": {
            "tags": []
          },
          "execution_count": 160
        }
      ]
    },
    {
      "cell_type": "code",
      "metadata": {
        "colab": {
          "base_uri": "https://localhost:8080/",
          "height": 195
        },
        "id": "YPdzVvIDrzOD",
        "outputId": "7f36d126-5fc3-456f-8000-060450d89285"
      },
      "source": [
        "for temp_C in temperaturas_C:\n",
        "  if float(alert_temp) >= float(temperaturas_C):\n",
        "    print(\"hay una temperatura superior a 80º\")"
      ],
      "execution_count": 152,
      "outputs": [
        {
          "output_type": "error",
          "ename": "TypeError",
          "evalue": "ignored",
          "traceback": [
            "\u001b[0;31m---------------------------------------------------------------------------\u001b[0m",
            "\u001b[0;31mTypeError\u001b[0m                                 Traceback (most recent call last)",
            "\u001b[0;32m<ipython-input-152-a835fe62b002>\u001b[0m in \u001b[0;36m<module>\u001b[0;34m()\u001b[0m\n\u001b[1;32m      1\u001b[0m \u001b[0;32mfor\u001b[0m \u001b[0mtemp_C\u001b[0m \u001b[0;32min\u001b[0m \u001b[0mtemperaturas_C\u001b[0m\u001b[0;34m:\u001b[0m\u001b[0;34m\u001b[0m\u001b[0;34m\u001b[0m\u001b[0m\n\u001b[0;32m----> 2\u001b[0;31m   \u001b[0;32mif\u001b[0m \u001b[0mfloat\u001b[0m\u001b[0;34m(\u001b[0m\u001b[0malert_temp\u001b[0m\u001b[0;34m)\u001b[0m \u001b[0;34m>=\u001b[0m \u001b[0mfloat\u001b[0m\u001b[0;34m(\u001b[0m\u001b[0mtemperaturas_C\u001b[0m\u001b[0;34m)\u001b[0m\u001b[0;34m:\u001b[0m\u001b[0;34m\u001b[0m\u001b[0;34m\u001b[0m\u001b[0m\n\u001b[0m\u001b[1;32m      3\u001b[0m     \u001b[0mprint\u001b[0m\u001b[0;34m(\u001b[0m\u001b[0;34m\"hay una temperatura superior a 80º\"\u001b[0m\u001b[0;34m)\u001b[0m\u001b[0;34m\u001b[0m\u001b[0;34m\u001b[0m\u001b[0m\n",
            "\u001b[0;31mTypeError\u001b[0m: float() argument must be a string or a number, not 'list'"
          ]
        }
      ]
    },
    {
      "cell_type": "code",
      "metadata": {
        "colab": {
          "base_uri": "https://localhost:8080/",
          "height": 128
        },
        "id": "R7CqhYMt8BjY",
        "outputId": "e8c558f3-e1e7-4b9b-e529-c2303d16276b"
      },
      "source": [
        "for alert_temp in temperaturas_C:\n",
        "  if True:\n",
        "    print(\"hay una temperatura superior a 80º)"
      ],
      "execution_count": 173,
      "outputs": [
        {
          "output_type": "error",
          "ename": "SyntaxError",
          "evalue": "ignored",
          "traceback": [
            "\u001b[0;36m  File \u001b[0;32m\"<ipython-input-173-b5723d32b761>\"\u001b[0;36m, line \u001b[0;32m4\u001b[0m\n\u001b[0;31m    print(\"hay una temperatura superior a 80º)\u001b[0m\n\u001b[0m                                              ^\u001b[0m\n\u001b[0;31mSyntaxError\u001b[0m\u001b[0;31m:\u001b[0m EOL while scanning string literal\n"
          ]
        }
      ]
    },
    {
      "cell_type": "markdown",
      "metadata": {
        "id": "m0TJB22BDoLW"
      },
      "source": [
        "#3 - LA TEMPERATURA MEDIA"
      ]
    },
    {
      "cell_type": "code",
      "metadata": {
        "colab": {
          "base_uri": "https://localhost:8080/"
        },
        "id": "IKJzTEFcF3kV",
        "outputId": "ddaa1edd-fec2-43f4-861e-16075d6288a6"
      },
      "source": [
        "#Definimos la variable de la suma de temperatura\n",
        "Sum_temp = sum(temperaturas_C)\n",
        "Sum_temp"
      ],
      "execution_count": 26,
      "outputs": [
        {
          "output_type": "execute_result",
          "data": {
            "text/plain": [
              "1446"
            ]
          },
          "metadata": {
            "tags": []
          },
          "execution_count": 26
        }
      ]
    },
    {
      "cell_type": "code",
      "metadata": {
        "colab": {
          "base_uri": "https://localhost:8080/"
        },
        "id": "WZ6DOORlGpMf",
        "outputId": "5a1675e9-5aa7-4052-c1cb-4fb00880983c"
      },
      "source": [
        "#Definimos la variable del numero de temperaturas relevadas\n",
        "Num_temp = len(temperaturas_C)\n",
        "Num_temp"
      ],
      "execution_count": 50,
      "outputs": [
        {
          "output_type": "execute_result",
          "data": {
            "text/plain": [
              "24"
            ]
          },
          "metadata": {
            "tags": []
          },
          "execution_count": 50
        }
      ]
    },
    {
      "cell_type": "code",
      "metadata": {
        "colab": {
          "base_uri": "https://localhost:8080/"
        },
        "id": "TTDbpfZrpWRp",
        "outputId": "59387059-3eb3-4226-f3c7-bad65bcbe02d"
      },
      "source": [
        "#4. cálculo de la media de temperaturas a lo largo del día e imprime resultado\n",
        "print(\"la media de las temperaturas del dia es:\")\n",
        "Sum_temp /Num_temp"
      ],
      "execution_count": 52,
      "outputs": [
        {
          "output_type": "stream",
          "text": [
            "la media de las temperaturas del dia es:\n"
          ],
          "name": "stdout"
        },
        {
          "output_type": "execute_result",
          "data": {
            "text/plain": [
              "60.25"
            ]
          },
          "metadata": {
            "tags": []
          },
          "execution_count": 52
        }
      ]
    },
    {
      "cell_type": "markdown",
      "metadata": {
        "id": "ydtFIMzb5Hor"
      },
      "source": [
        "# 4 - TEMPERATURAS Y HORAS"
      ]
    },
    {
      "cell_type": "markdown",
      "metadata": {
        "id": "mk1xm5lkOTwN"
      },
      "source": [
        "## Lista de las  temperaturas en funcion de la hora"
      ]
    },
    {
      "cell_type": "code",
      "metadata": {
        "colab": {
          "base_uri": "https://localhost:8080/"
        },
        "id": "HWDV2ohknOzd",
        "outputId": "31d82131-871a-45e0-e5ad-81dd1f86523f"
      },
      "source": [
        "list(temperaturas_C)\n",
        "index= 0\n",
        "for temp_C in temperaturas_C:\n",
        "  print(index, temp_C)\n",
        "  index += 1"
      ],
      "execution_count": 101,
      "outputs": [
        {
          "output_type": "stream",
          "text": [
            "0 33\n",
            "1 66\n",
            "2 65\n",
            "3 0\n",
            "4 59\n",
            "5 60\n",
            "6 62\n",
            "7 64\n",
            "8 70\n",
            "9 76\n",
            "10 80\n",
            "11 81\n",
            "12 80\n",
            "13 83\n",
            "14 90\n",
            "15 79\n",
            "16 61\n",
            "17 53\n",
            "18 50\n",
            "19 49\n",
            "20 53\n",
            "21 48\n",
            "22 45\n",
            "23 39\n"
          ],
          "name": "stdout"
        }
      ]
    },
    {
      "cell_type": "code",
      "metadata": {
        "id": "ZOraTJ5v4lKx"
      },
      "source": [
        ""
      ],
      "execution_count": null,
      "outputs": []
    },
    {
      "cell_type": "markdown",
      "metadata": {
        "id": "F-T5O_OLzd2E"
      },
      "source": [
        "## La temperatura a las 3 de la mañana"
      ]
    },
    {
      "cell_type": "code",
      "metadata": {
        "colab": {
          "base_uri": "https://localhost:8080/"
        },
        "id": "FDMXb8DBnOf0",
        "outputId": "004eff89-bbc9-4376-ad0d-7b52da0d81fa"
      },
      "source": [
        "#la temperatura de la hora 3\n",
        "temperaturas_C[3]"
      ],
      "execution_count": 144,
      "outputs": [
        {
          "output_type": "execute_result",
          "data": {
            "text/plain": [
              "0"
            ]
          },
          "metadata": {
            "tags": []
          },
          "execution_count": 144
        }
      ]
    },
    {
      "cell_type": "code",
      "metadata": {
        "colab": {
          "base_uri": "https://localhost:8080/"
        },
        "id": "cB4GzA_Kx0Sk",
        "outputId": "ef440ebe-f36c-4dbd-ce1b-7b37e4869e0d"
      },
      "source": [
        "#Estimacion del valor de la tempertura a la 3 horasÇ\n",
        "#Definimos Temp_H3 la temperatura a la 3 de la mañana\n",
        "#Temp_H3 sera la media entre la temperatura de las 2h y de la 4h\n",
        "\n",
        "Temp_H3 = (temperaturas_C[2] + temperaturas_C[4])/(2)\n",
        "print(\"la estimacion de la temperatura a las 3 de la mañana es: \")\n",
        "Temp_H3"
      ],
      "execution_count": 145,
      "outputs": [
        {
          "output_type": "stream",
          "text": [
            "la estimacion de la temperatura a las 3 de la mañana es: \n"
          ],
          "name": "stdout"
        },
        {
          "output_type": "execute_result",
          "data": {
            "text/plain": [
              "62.0"
            ]
          },
          "metadata": {
            "tags": []
          },
          "execution_count": 145
        }
      ]
    },
    {
      "cell_type": "markdown",
      "metadata": {
        "id": "RnJCvw4J1AWT"
      },
      "source": [
        "#5 - CONVERSION DE LA TEMPERATURA"
      ]
    },
    {
      "cell_type": "code",
      "metadata": {
        "id": "SCdagvRB7h9d"
      },
      "source": [
        ""
      ],
      "execution_count": null,
      "outputs": []
    },
    {
      "cell_type": "code",
      "metadata": {
        "colab": {
          "base_uri": "https://localhost:8080/"
        },
        "id": "fbc5F7KR1JAc",
        "outputId": "1bcabe4b-6496-4dcd-b6ab-f9374eebb7a0"
      },
      "source": [
        "## Fórmula: F = 1.8 * C + 32\n",
        "temperaturas_C[6]"
      ],
      "execution_count": 141,
      "outputs": [
        {
          "output_type": "execute_result",
          "data": {
            "text/plain": [
              "62"
            ]
          },
          "metadata": {
            "tags": []
          },
          "execution_count": 141
        }
      ]
    },
    {
      "cell_type": "code",
      "metadata": {
        "id": "z5GTMuAl2I1t"
      },
      "source": [
        "## conversion de la temperatura de las 6 de ma mañana \n",
        "F= 1.8*float(temperaturas_C[6])+32"
      ],
      "execution_count": 142,
      "outputs": []
    },
    {
      "cell_type": "markdown",
      "metadata": {
        "id": "H9Al8qgL4wui"
      },
      "source": [
        "##Conversion de la lista en F"
      ]
    },
    {
      "cell_type": "code",
      "metadata": {
        "id": "Xv67H7lT3tI0"
      },
      "source": [
        "#Lista de la temperaturas_C de C ==> F\n"
      ],
      "execution_count": 147,
      "outputs": []
    },
    {
      "cell_type": "code",
      "metadata": {
        "id": "Jw8rqQiQ4vzr"
      },
      "source": [
        ""
      ],
      "execution_count": 147,
      "outputs": []
    },
    {
      "cell_type": "markdown",
      "metadata": {
        "id": "qv8tiuxG7i35"
      },
      "source": [
        "#"
      ]
    }
  ]
}