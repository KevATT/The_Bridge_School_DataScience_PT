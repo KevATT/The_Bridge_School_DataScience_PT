{
  "nbformat": 4,
  "nbformat_minor": 5,
  "metadata": {
    "kernelspec": {
      "display_name": "Python 3",
      "language": "python",
      "name": "python3"
    },
    "language_info": {
      "codemirror_mode": {
        "name": "ipython",
        "version": 3
      },
      "file_extension": ".py",
      "mimetype": "text/x-python",
      "name": "python",
      "nbconvert_exporter": "python",
      "pygments_lexer": "ipython3",
      "version": "3.8.8"
    },
    "colab": {
      "name": "SIMPLE CALCULATOR v3.ipynb",
      "provenance": [],
      "collapsed_sections": [
        "PDZh5yr2J85Y",
        "uQZGhuO7FQhd",
        "G36JczhEJSSu"
      ]
    }
  },
  "cells": [
    {
      "cell_type": "markdown",
      "metadata": {
        "id": "f6c3a5d1"
      },
      "source": [
        "***SIMPLE CALCULATOR***\n"
      ],
      "id": "f6c3a5d1"
    },
    {
      "cell_type": "markdown",
      "metadata": {
        "id": "PDZh5yr2J85Y"
      },
      "source": [
        "## ***DEFINICION DE LA VARIABLES***"
      ],
      "id": "PDZh5yr2J85Y"
    },
    {
      "cell_type": "code",
      "metadata": {
        "id": "2ac6de36"
      },
      "source": [
        "#Creamos una variable con una lista de operadores\n",
        "operadores = [\"+\", \"-\", \"*\", \"/\", \"//\", \"%\"]"
      ],
      "id": "2ac6de36",
      "execution_count": 7,
      "outputs": []
    },
    {
      "cell_type": "code",
      "metadata": {
        "colab": {
          "base_uri": "https://localhost:8080/"
        },
        "id": "ohGrmbfOPu4H",
        "outputId": "87cd6bcb-5360-4ec9-8b78-4db609b18fed"
      },
      "source": [
        "#Listamos los operadores\n",
        "for operador in operadores:\n",
        "  print(operador)"
      ],
      "id": "ohGrmbfOPu4H",
      "execution_count": 8,
      "outputs": [
        {
          "output_type": "stream",
          "text": [
            "+\n",
            "-\n",
            "*\n",
            "/\n",
            "//\n",
            "%\n"
          ],
          "name": "stdout"
        }
      ]
    },
    {
      "cell_type": "code",
      "metadata": {
        "colab": {
          "base_uri": "https://localhost:8080/"
        },
        "id": "iC1AYV60QerR",
        "outputId": "c5f9138b-0640-46ba-c0b1-d91b49d8ffbd"
      },
      "source": [
        "#Indexamos cada operador para poder insertar en en condicion mas adelante\n",
        "index = 0\n",
        "for operador in operadores:\n",
        "  print(index, operador)\n",
        "  index += 1"
      ],
      "id": "iC1AYV60QerR",
      "execution_count": 9,
      "outputs": [
        {
          "output_type": "stream",
          "text": [
            "0 +\n",
            "1 -\n",
            "2 *\n",
            "3 /\n",
            "4 //\n",
            "5 %\n"
          ],
          "name": "stdout"
        }
      ]
    },
    {
      "cell_type": "code",
      "metadata": {
        "colab": {
          "base_uri": "https://localhost:8080/"
        },
        "id": "5DJUCtkdYFw1",
        "outputId": "76048e02-1a92-4994-fd46-2a674d02d4b1"
      },
      "source": [
        "print(operadores[0])"
      ],
      "id": "5DJUCtkdYFw1",
      "execution_count": null,
      "outputs": [
        {
          "output_type": "stream",
          "text": [
            "+\n"
          ],
          "name": "stdout"
        }
      ]
    },
    {
      "cell_type": "code",
      "metadata": {
        "colab": {
          "base_uri": "https://localhost:8080/",
          "height": 35
        },
        "id": "buSoS0cqZAdE",
        "outputId": "cf9b4287-846a-4a19-dd9e-0390386db5b1"
      },
      "source": [
        "operadores[3]"
      ],
      "id": "buSoS0cqZAdE",
      "execution_count": null,
      "outputs": [
        {
          "output_type": "execute_result",
          "data": {
            "application/vnd.google.colaboratory.intrinsic+json": {
              "type": "string"
            },
            "text/plain": [
              "'/'"
            ]
          },
          "metadata": {
            "tags": []
          },
          "execution_count": 50
        }
      ]
    },
    {
      "cell_type": "code",
      "metadata": {
        "id": "-hQvzO8Aw89T"
      },
      "source": [
        "#Definimos la operacion suma\n",
        "la_suma = int(a) + int(b)"
      ],
      "id": "-hQvzO8Aw89T",
      "execution_count": null,
      "outputs": []
    },
    {
      "cell_type": "markdown",
      "metadata": {
        "id": "e_x6giYd3I8D"
      },
      "source": [
        ""
      ],
      "id": "e_x6giYd3I8D"
    },
    {
      "cell_type": "code",
      "metadata": {
        "id": "HH0q1qwAklih"
      },
      "source": [
        "#Definimos la operacion resta\n",
        "la_resta = int(a) - int(b)\n",
        "la_resta"
      ],
      "id": "HH0q1qwAklih",
      "execution_count": null,
      "outputs": []
    },
    {
      "cell_type": "code",
      "metadata": {
        "colab": {
          "base_uri": "https://localhost:8080/",
          "height": 35
        },
        "id": "ITbyYdYHBslL",
        "outputId": "1578a83c-2f67-47fa-b5f4-3f64a9f80ab7"
      },
      "source": [
        "Multiply = operadores[5]\n",
        "Multiply"
      ],
      "id": "ITbyYdYHBslL",
      "execution_count": null,
      "outputs": [
        {
          "output_type": "execute_result",
          "data": {
            "application/vnd.google.colaboratory.intrinsic+json": {
              "type": "string"
            },
            "text/plain": [
              "'/'"
            ]
          },
          "metadata": {
            "tags": []
          },
          "execution_count": 51
        }
      ]
    },
    {
      "cell_type": "code",
      "metadata": {
        "id": "jiTfoveOoa1t"
      },
      "source": [
        " #Definimos la operacion division\n",
        "la_division = int(a) // int(b)\n",
        "la_division"
      ],
      "id": "jiTfoveOoa1t",
      "execution_count": null,
      "outputs": []
    },
    {
      "cell_type": "code",
      "metadata": {
        "colab": {
          "base_uri": "https://localhost:8080/",
          "height": 129
        },
        "id": "z-cKup0FAMT8",
        "outputId": "41ff1ac0-fb3b-4642-b93d-e198152ccefc"
      },
      "source": [
        "def Multiply (a, b):\n",
        "  "
      ],
      "id": "z-cKup0FAMT8",
      "execution_count": null,
      "outputs": [
        {
          "output_type": "error",
          "ename": "SyntaxError",
          "evalue": "ignored",
          "traceback": [
            "\u001b[0;36m  File \u001b[0;32m\"<ipython-input-108-1c6446fea24c>\"\u001b[0;36m, line \u001b[0;32m2\u001b[0m\n\u001b[0;31m    \u001b[0m\n\u001b[0m    ^\u001b[0m\n\u001b[0;31mSyntaxError\u001b[0m\u001b[0;31m:\u001b[0m unexpected EOF while parsing\n"
          ]
        }
      ]
    },
    {
      "cell_type": "code",
      "metadata": {
        "colab": {
          "base_uri": "https://localhost:8080/"
        },
        "id": "L-1gb8noPl3D",
        "outputId": "92208aba-3753-4e0f-984d-9d7ab7da6a28"
      },
      "source": [
        "#declaramos EL PRIMER VALOR de entrada\n",
        "a = input(\"insertar el primer numero:    \")"
      ],
      "id": "L-1gb8noPl3D",
      "execution_count": null,
      "outputs": [
        {
          "output_type": "stream",
          "text": [
            "insertar el primer numero:    4\n"
          ],
          "name": "stdout"
        }
      ]
    },
    {
      "cell_type": "code",
      "metadata": {
        "colab": {
          "base_uri": "https://localhost:8080/"
        },
        "id": "Pl4a5u9gPq4I",
        "outputId": "eb092a47-d4a8-4fdb-cb1d-de1af6cbfe9c"
      },
      "source": [
        "#Declaramos EL SEGUNDO VALOR de entrada \n",
        "b = input(\"insertar el segundo numero:   \")"
      ],
      "id": "Pl4a5u9gPq4I",
      "execution_count": null,
      "outputs": [
        {
          "output_type": "stream",
          "text": [
            "insertar el segundo numero:   5\n"
          ],
          "name": "stdout"
        }
      ]
    },
    {
      "cell_type": "code",
      "metadata": {
        "id": "mQK4CauCRu2Y"
      },
      "source": [
        "#Seleccion de la operacion a realizar\n",
        "operacion = input(\"Que operation deseas realizar? \")"
      ],
      "id": "mQK4CauCRu2Y",
      "execution_count": null,
      "outputs": []
    },
    {
      "cell_type": "code",
      "metadata": {
        "colab": {
          "base_uri": "https://localhost:8080/"
        },
        "id": "8_Tt323YJ85Z",
        "outputId": "552e52be-15d7-49d0-ef9a-ced55a700957"
      },
      "source": [
        "#Declaramos la condición de evaluación SI el operador no se encuentra en la lista de Operadores\n",
        "for operacion in operadores:\n",
        " \n",
        "  #Definimos la operacion suma \n",
        "  la_suma = int(a) + int(b)\n",
        "  \n",
        "  #Definimos la eperacion resta\n",
        "  la_resta = int(a) - int(b)\n",
        " \n",
        "  #Seleccion de la operacion a realizar\n",
        "  \n",
        " \n",
        "  if operacion == operadores[0]  :\n",
        "      print(\"El resultado es :\")\n",
        "      print(la_suma)\n",
        " \n",
        "  elif  operacion == operadores[1] :  \n",
        "      print(\"El resultado de a-b\")\n",
        "      print(la_resta)\n",
        "else:\n",
        "  print(\"Operación no reconocida \")"
      ],
      "id": "8_Tt323YJ85Z",
      "execution_count": null,
      "outputs": [
        {
          "output_type": "stream",
          "text": [
            "El resultado es :\n",
            "679\n",
            "El resultado de a-b\n",
            "611\n",
            "Operación no reconocida \n"
          ],
          "name": "stdout"
        }
      ]
    },
    {
      "cell_type": "markdown",
      "metadata": {
        "id": "uQZGhuO7FQhd"
      },
      "source": [
        "## ***SEGUNDA SOLUCION (Definitiva)***"
      ],
      "id": "uQZGhuO7FQhd"
    },
    {
      "cell_type": "code",
      "metadata": {
        "id": "zEojAcQgJGvA"
      },
      "source": [
        ""
      ],
      "id": "zEojAcQgJGvA",
      "execution_count": null,
      "outputs": []
    },
    {
      "cell_type": "code",
      "metadata": {
        "id": "pvNzIyeHnuNX",
        "colab": {
          "base_uri": "https://localhost:8080/",
          "height": 538
        },
        "outputId": "755b7b31-7f22-4f16-c1b1-76b1f03522b7"
      },
      "source": [
        "print(\"--- BIENVENIDO EN TU CALCULADORA ---\")\n",
        "#Declaramos la condición de evaluación SI el operador no se encuentra en la lista de Operadores\n",
        "for operacion in operadores:\n",
        " \n",
        "  #declaramos EL PRIMER VALOR de entrada\n",
        "  a = input(\" insertar el primer numero:    \")\n",
        " \n",
        "  #Seleccion de la operacion a realizar\n",
        "  operacion = input(\"                 Operation:    \")\n",
        " \n",
        "  #Declaramos EL SEGUNDO VALOR de entrada \n",
        "  b = input(\"insertar el segundo numero:    \")\n",
        "\n",
        "  #Definimos la operacion suma\n",
        "  la_suma = int(a) + int(b)\n",
        "\n",
        "  #Definimos la eperacion resta\n",
        "  la_resta = int(a) - int(b)\n",
        " \n",
        "  #Definimos la operacion multiplicacion\n",
        "  la_multiplicacion = int(a)* int(b)\n",
        "\n",
        "  #Definimos la operacion division  \n",
        "  la_division = int(a) / int(b)\n",
        "\n",
        "  #Definimos la operacion division  \n",
        "  la_division_qo = float(a) // float(b)\n",
        " \n",
        "  if operacion == operadores[0]  :\n",
        "      print(\"El resultado es :\")\n",
        "      print(la_suma)\n",
        " \n",
        "  elif  operacion == operadores[1] :  \n",
        "      print(\"El resultado de a-b\")\n",
        "      print(la_resta)\n",
        "\n",
        "  elif  operacion == operadores[2] :  \n",
        "      print(\"El resultado de a*b\")\n",
        "      print(la_multiplicacion)    \n",
        " \n",
        "  elif  operacion == operadores[3] :  \n",
        "      print(\"El resultado de a/b\")\n",
        "      print(la_division) \n",
        "\n",
        "  elif  operacion == operadores[4] :  \n",
        "      print(\"El resultado de a//b\")\n",
        "      print(la_division_qo) \n",
        " \n",
        "  elif operacion not in operadores:\n",
        "      print(\"Operación desconocida \")\n",
        "break\n",
        "  \n"
      ],
      "id": "pvNzIyeHnuNX",
      "execution_count": 10,
      "outputs": [
        {
          "output_type": "stream",
          "text": [
            "--- BIENVENIDO EN TU CALCULADORA ---\n"
          ],
          "name": "stdout"
        },
        {
          "output_type": "error",
          "ename": "KeyboardInterrupt",
          "evalue": "ignored",
          "traceback": [
            "\u001b[0;31m---------------------------------------------------------------------------\u001b[0m",
            "\u001b[0;31mKeyboardInterrupt\u001b[0m                         Traceback (most recent call last)",
            "\u001b[0;32m/usr/local/lib/python3.7/dist-packages/ipykernel/kernelbase.py\u001b[0m in \u001b[0;36m_input_request\u001b[0;34m(self, prompt, ident, parent, password)\u001b[0m\n\u001b[1;32m    728\u001b[0m             \u001b[0;32mtry\u001b[0m\u001b[0;34m:\u001b[0m\u001b[0;34m\u001b[0m\u001b[0;34m\u001b[0m\u001b[0m\n\u001b[0;32m--> 729\u001b[0;31m                 \u001b[0mident\u001b[0m\u001b[0;34m,\u001b[0m \u001b[0mreply\u001b[0m \u001b[0;34m=\u001b[0m \u001b[0mself\u001b[0m\u001b[0;34m.\u001b[0m\u001b[0msession\u001b[0m\u001b[0;34m.\u001b[0m\u001b[0mrecv\u001b[0m\u001b[0;34m(\u001b[0m\u001b[0mself\u001b[0m\u001b[0;34m.\u001b[0m\u001b[0mstdin_socket\u001b[0m\u001b[0;34m,\u001b[0m \u001b[0;36m0\u001b[0m\u001b[0;34m)\u001b[0m\u001b[0;34m\u001b[0m\u001b[0;34m\u001b[0m\u001b[0m\n\u001b[0m\u001b[1;32m    730\u001b[0m             \u001b[0;32mexcept\u001b[0m \u001b[0mException\u001b[0m\u001b[0;34m:\u001b[0m\u001b[0;34m\u001b[0m\u001b[0;34m\u001b[0m\u001b[0m\n",
            "\u001b[0;32m/usr/local/lib/python3.7/dist-packages/jupyter_client/session.py\u001b[0m in \u001b[0;36mrecv\u001b[0;34m(self, socket, mode, content, copy)\u001b[0m\n\u001b[1;32m    802\u001b[0m         \u001b[0;32mtry\u001b[0m\u001b[0;34m:\u001b[0m\u001b[0;34m\u001b[0m\u001b[0;34m\u001b[0m\u001b[0m\n\u001b[0;32m--> 803\u001b[0;31m             \u001b[0mmsg_list\u001b[0m \u001b[0;34m=\u001b[0m \u001b[0msocket\u001b[0m\u001b[0;34m.\u001b[0m\u001b[0mrecv_multipart\u001b[0m\u001b[0;34m(\u001b[0m\u001b[0mmode\u001b[0m\u001b[0;34m,\u001b[0m \u001b[0mcopy\u001b[0m\u001b[0;34m=\u001b[0m\u001b[0mcopy\u001b[0m\u001b[0;34m)\u001b[0m\u001b[0;34m\u001b[0m\u001b[0;34m\u001b[0m\u001b[0m\n\u001b[0m\u001b[1;32m    804\u001b[0m         \u001b[0;32mexcept\u001b[0m \u001b[0mzmq\u001b[0m\u001b[0;34m.\u001b[0m\u001b[0mZMQError\u001b[0m \u001b[0;32mas\u001b[0m \u001b[0me\u001b[0m\u001b[0;34m:\u001b[0m\u001b[0;34m\u001b[0m\u001b[0;34m\u001b[0m\u001b[0m\n",
            "\u001b[0;32m/usr/local/lib/python3.7/dist-packages/zmq/sugar/socket.py\u001b[0m in \u001b[0;36mrecv_multipart\u001b[0;34m(self, flags, copy, track)\u001b[0m\n\u001b[1;32m    582\u001b[0m         \"\"\"\n\u001b[0;32m--> 583\u001b[0;31m         \u001b[0mparts\u001b[0m \u001b[0;34m=\u001b[0m \u001b[0;34m[\u001b[0m\u001b[0mself\u001b[0m\u001b[0;34m.\u001b[0m\u001b[0mrecv\u001b[0m\u001b[0;34m(\u001b[0m\u001b[0mflags\u001b[0m\u001b[0;34m,\u001b[0m \u001b[0mcopy\u001b[0m\u001b[0;34m=\u001b[0m\u001b[0mcopy\u001b[0m\u001b[0;34m,\u001b[0m \u001b[0mtrack\u001b[0m\u001b[0;34m=\u001b[0m\u001b[0mtrack\u001b[0m\u001b[0;34m)\u001b[0m\u001b[0;34m]\u001b[0m\u001b[0;34m\u001b[0m\u001b[0;34m\u001b[0m\u001b[0m\n\u001b[0m\u001b[1;32m    584\u001b[0m         \u001b[0;31m# have first part already, only loop while more to receive\u001b[0m\u001b[0;34m\u001b[0m\u001b[0;34m\u001b[0m\u001b[0;34m\u001b[0m\u001b[0m\n",
            "\u001b[0;32mzmq/backend/cython/socket.pyx\u001b[0m in \u001b[0;36mzmq.backend.cython.socket.Socket.recv\u001b[0;34m()\u001b[0m\n",
            "\u001b[0;32mzmq/backend/cython/socket.pyx\u001b[0m in \u001b[0;36mzmq.backend.cython.socket.Socket.recv\u001b[0;34m()\u001b[0m\n",
            "\u001b[0;32mzmq/backend/cython/socket.pyx\u001b[0m in \u001b[0;36mzmq.backend.cython.socket._recv_copy\u001b[0;34m()\u001b[0m\n",
            "\u001b[0;32m/usr/local/lib/python3.7/dist-packages/zmq/backend/cython/checkrc.pxd\u001b[0m in \u001b[0;36mzmq.backend.cython.checkrc._check_rc\u001b[0;34m()\u001b[0m\n",
            "\u001b[0;31mKeyboardInterrupt\u001b[0m: ",
            "\nDuring handling of the above exception, another exception occurred:\n",
            "\u001b[0;31mKeyboardInterrupt\u001b[0m                         Traceback (most recent call last)",
            "\u001b[0;32m<ipython-input-10-f51cd09dbf5d>\u001b[0m in \u001b[0;36m<module>\u001b[0;34m()\u001b[0m\n\u001b[1;32m      4\u001b[0m \u001b[0;34m\u001b[0m\u001b[0m\n\u001b[1;32m      5\u001b[0m   \u001b[0;31m#declaramos EL PRIMER VALOR de entrada\u001b[0m\u001b[0;34m\u001b[0m\u001b[0;34m\u001b[0m\u001b[0;34m\u001b[0m\u001b[0m\n\u001b[0;32m----> 6\u001b[0;31m   \u001b[0ma\u001b[0m \u001b[0;34m=\u001b[0m \u001b[0minput\u001b[0m\u001b[0;34m(\u001b[0m\u001b[0;34m\" insertar el primer numero:    \"\u001b[0m\u001b[0;34m)\u001b[0m\u001b[0;34m\u001b[0m\u001b[0;34m\u001b[0m\u001b[0m\n\u001b[0m\u001b[1;32m      7\u001b[0m \u001b[0;34m\u001b[0m\u001b[0m\n\u001b[1;32m      8\u001b[0m   \u001b[0;31m#Seleccion de la operacion a realizar\u001b[0m\u001b[0;34m\u001b[0m\u001b[0;34m\u001b[0m\u001b[0;34m\u001b[0m\u001b[0m\n",
            "\u001b[0;32m/usr/local/lib/python3.7/dist-packages/ipykernel/kernelbase.py\u001b[0m in \u001b[0;36mraw_input\u001b[0;34m(self, prompt)\u001b[0m\n\u001b[1;32m    702\u001b[0m             \u001b[0mself\u001b[0m\u001b[0;34m.\u001b[0m\u001b[0m_parent_ident\u001b[0m\u001b[0;34m,\u001b[0m\u001b[0;34m\u001b[0m\u001b[0;34m\u001b[0m\u001b[0m\n\u001b[1;32m    703\u001b[0m             \u001b[0mself\u001b[0m\u001b[0;34m.\u001b[0m\u001b[0m_parent_header\u001b[0m\u001b[0;34m,\u001b[0m\u001b[0;34m\u001b[0m\u001b[0;34m\u001b[0m\u001b[0m\n\u001b[0;32m--> 704\u001b[0;31m             \u001b[0mpassword\u001b[0m\u001b[0;34m=\u001b[0m\u001b[0;32mFalse\u001b[0m\u001b[0;34m,\u001b[0m\u001b[0;34m\u001b[0m\u001b[0;34m\u001b[0m\u001b[0m\n\u001b[0m\u001b[1;32m    705\u001b[0m         )\n\u001b[1;32m    706\u001b[0m \u001b[0;34m\u001b[0m\u001b[0m\n",
            "\u001b[0;32m/usr/local/lib/python3.7/dist-packages/ipykernel/kernelbase.py\u001b[0m in \u001b[0;36m_input_request\u001b[0;34m(self, prompt, ident, parent, password)\u001b[0m\n\u001b[1;32m    732\u001b[0m             \u001b[0;32mexcept\u001b[0m \u001b[0mKeyboardInterrupt\u001b[0m\u001b[0;34m:\u001b[0m\u001b[0;34m\u001b[0m\u001b[0;34m\u001b[0m\u001b[0m\n\u001b[1;32m    733\u001b[0m                 \u001b[0;31m# re-raise KeyboardInterrupt, to truncate traceback\u001b[0m\u001b[0;34m\u001b[0m\u001b[0;34m\u001b[0m\u001b[0;34m\u001b[0m\u001b[0m\n\u001b[0;32m--> 734\u001b[0;31m                 \u001b[0;32mraise\u001b[0m \u001b[0mKeyboardInterrupt\u001b[0m\u001b[0;34m\u001b[0m\u001b[0;34m\u001b[0m\u001b[0m\n\u001b[0m\u001b[1;32m    735\u001b[0m             \u001b[0;32melse\u001b[0m\u001b[0;34m:\u001b[0m\u001b[0;34m\u001b[0m\u001b[0;34m\u001b[0m\u001b[0m\n\u001b[1;32m    736\u001b[0m                 \u001b[0;32mbreak\u001b[0m\u001b[0;34m\u001b[0m\u001b[0;34m\u001b[0m\u001b[0m\n",
            "\u001b[0;31mKeyboardInterrupt\u001b[0m: "
          ]
        }
      ]
    },
    {
      "cell_type": "code",
      "metadata": {
        "id": "8985379c"
      },
      "source": [
        ""
      ],
      "id": "8985379c",
      "execution_count": null,
      "outputs": []
    },
    {
      "cell_type": "markdown",
      "metadata": {
        "id": "G36JczhEJSSu"
      },
      "source": [
        "## ***PRIMERA SOLUCION (descartada)***"
      ],
      "id": "G36JczhEJSSu"
    },
    {
      "cell_type": "code",
      "metadata": {
        "colab": {
          "base_uri": "https://localhost:8080/"
        },
        "id": "fGjo7h9aJkhD",
        "outputId": "552e52be-15d7-49d0-ef9a-ced55a700957"
      },
      "source": [
        "#Declaramos la condición de evaluación SI el operador no se encuentra en la lista de Operadores\n",
        "for operacion in operadores:\n",
        " \n",
        "  #Definimos la operacion suma \n",
        "  la_suma = int(a) + int(b)\n",
        "  \n",
        "  #Definimos la eperacion resta\n",
        "  la_resta = int(a) - int(b)\n",
        " \n",
        "  #Seleccion de la operacion a realizar\n",
        "  \n",
        " \n",
        "  if operacion == operadores[0]  :\n",
        "      print(\"El resultado es :\")\n",
        "      print(la_suma)\n",
        " \n",
        "  elif  operacion == operadores[1] :  \n",
        "      print(\"El resultado de a-b\")\n",
        "      print(la_resta)\n",
        "else:\n",
        "  print(\"Operación no reconocida \")"
      ],
      "id": "fGjo7h9aJkhD",
      "execution_count": null,
      "outputs": [
        {
          "output_type": "stream",
          "text": [
            "El resultado es :\n",
            "679\n",
            "El resultado de a-b\n",
            "611\n",
            "Operación no reconocida \n"
          ],
          "name": "stdout"
        }
      ]
    }
  ]
}