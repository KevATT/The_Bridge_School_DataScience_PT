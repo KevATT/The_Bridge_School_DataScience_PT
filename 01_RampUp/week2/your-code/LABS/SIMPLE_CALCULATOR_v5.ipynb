{
  "nbformat": 4,
  "nbformat_minor": 5,
  "metadata": {
    "colab": {
      "name": "SIMPLE CALCULATOR v5.ipynb",
      "provenance": [],
      "collapsed_sections": []
    },
    "kernelspec": {
      "display_name": "Python 3",
      "language": "python",
      "name": "python3"
    },
    "language_info": {
      "codemirror_mode": {
        "name": "ipython",
        "version": 3
      },
      "file_extension": ".py",
      "mimetype": "text/x-python",
      "name": "python",
      "nbconvert_exporter": "python",
      "pygments_lexer": "ipython3",
      "version": "3.8.8"
    }
  },
  "cells": [
    {
      "cell_type": "markdown",
      "metadata": {
        "id": "f6c3a5d1"
      },
      "source": [
        "***SIMPLE CALCULATOR***\n"
      ],
      "id": "f6c3a5d1"
    },
    {
      "cell_type": "markdown",
      "metadata": {
        "id": "PDZh5yr2J85Y"
      },
      "source": [
        "## ***DEFINICION DE LA VARIABLES***"
      ],
      "id": "PDZh5yr2J85Y"
    },
    {
      "cell_type": "code",
      "metadata": {
        "id": "2ac6de36"
      },
      "source": [
        "#Creamos una variable con una lista de operadores\n",
        "operadores = [\"+\", \"-\", \"*\", \"/\", \"//\", \"%\"]"
      ],
      "id": "2ac6de36",
      "execution_count": 1,
      "outputs": []
    },
    {
      "cell_type": "code",
      "metadata": {
        "colab": {
          "base_uri": "https://localhost:8080/"
        },
        "id": "ohGrmbfOPu4H",
        "outputId": "2eba618f-f6df-41ec-f0eb-7668c5fb8107"
      },
      "source": [
        "#Listamos los operadores\n",
        "for operador in operadores:\n",
        "  print(operador)"
      ],
      "id": "ohGrmbfOPu4H",
      "execution_count": 2,
      "outputs": [
        {
          "output_type": "stream",
          "text": [
            "+\n",
            "-\n",
            "*\n",
            "/\n",
            "//\n",
            "%\n"
          ],
          "name": "stdout"
        }
      ]
    },
    {
      "cell_type": "code",
      "metadata": {
        "colab": {
          "base_uri": "https://localhost:8080/"
        },
        "id": "iC1AYV60QerR",
        "outputId": "fa46b6ca-27a9-48ab-f293-733487746271"
      },
      "source": [
        "#Indexamos cada operador para poder insertar en en condicion mas adelante\n",
        "index = 0\n",
        "for operador in operadores:\n",
        "  print(index, operador)\n",
        "  index += 1"
      ],
      "id": "iC1AYV60QerR",
      "execution_count": 3,
      "outputs": [
        {
          "output_type": "stream",
          "text": [
            "0 +\n",
            "1 -\n",
            "2 *\n",
            "3 /\n",
            "4 //\n",
            "5 %\n"
          ],
          "name": "stdout"
        }
      ]
    },
    {
      "cell_type": "code",
      "metadata": {
        "colab": {
          "base_uri": "https://localhost:8080/"
        },
        "id": "5DJUCtkdYFw1",
        "outputId": "c68c7b07-482b-4b50-aff2-ba729b2d8e43"
      },
      "source": [
        "print(operadores[0])"
      ],
      "id": "5DJUCtkdYFw1",
      "execution_count": 4,
      "outputs": [
        {
          "output_type": "stream",
          "text": [
            "+\n"
          ],
          "name": "stdout"
        }
      ]
    },
    {
      "cell_type": "code",
      "metadata": {
        "colab": {
          "base_uri": "https://localhost:8080/",
          "height": 35
        },
        "id": "buSoS0cqZAdE",
        "outputId": "ca27301a-b9a3-4bbc-8ad5-31a4a6bf897e"
      },
      "source": [
        "operadores[3]"
      ],
      "id": "buSoS0cqZAdE",
      "execution_count": 5,
      "outputs": [
        {
          "output_type": "execute_result",
          "data": {
            "application/vnd.google.colaboratory.intrinsic+json": {
              "type": "string"
            },
            "text/plain": [
              "'/'"
            ]
          },
          "metadata": {
            "tags": []
          },
          "execution_count": 5
        }
      ]
    },
    {
      "cell_type": "markdown",
      "metadata": {
        "id": "uQZGhuO7FQhd"
      },
      "source": [
        "## ***CALCULADORA ***\n"
      ],
      "id": "uQZGhuO7FQhd"
    },
    {
      "cell_type": "code",
      "metadata": {
        "colab": {
          "background_save": true
        },
        "id": "zEojAcQgJGvA"
      },
      "source": [
        ""
      ],
      "id": "zEojAcQgJGvA",
      "execution_count": null,
      "outputs": []
    },
    {
      "cell_type": "code",
      "metadata": {
        "colab": {
          "base_uri": "https://localhost:8080/",
          "height": 544
        },
        "id": "pvNzIyeHnuNX",
        "outputId": "59de2424-0320-45e0-9859-269f90897f8a"
      },
      "source": [
        "print(\"--- BIENVENIDO EN TU CALCULADORA ---\")\n",
        "#Declaramos la condición de evaluación SI el operador no se encuentra en la lista de Operadores\n",
        "for operacion in operadores:\n",
        " \n",
        "  #declaramos EL PRIMER VALOR de entrada\n",
        "  a = input(\" insertar el primer numero:    \")\n",
        " \n",
        "  #Seleccion de la operacion a realizar\n",
        "  operacion = input(\"                 Operation:    \")\n",
        " \n",
        "  #Declaramos EL SEGUNDO VALOR de entrada \n",
        "  b = input(\"insertar el segundo numero:    \")\n",
        "\n",
        "  #Definimos la operacion suma\n",
        "  la_suma = int(a) + int(b)\n",
        "\n",
        "  #Definimos la eperacion resta\n",
        "  la_resta = int(a) - int(b)\n",
        " \n",
        "  #Definimos la operacion multiplicacion\n",
        "  la_multiplicacion = int(a)* int(b)\n",
        "\n",
        "  #Definimos la operacion division  \n",
        "  la_division = int(a) / int(b)\n",
        "\n",
        "  #Definimos la operacion division  \n",
        "  la_division_qo = float(a) // float(b)\n",
        " \n",
        "  if operacion == operadores[0]  :\n",
        "    print(\"-----------El resultado es:  \",la_suma)\n",
        "    print(\"****************************************************\")\n",
        "      \n",
        " \n",
        "  elif  operacion == operadores[1] : \n",
        "\n",
        "    print(\"-----------El resultado es:  \",la_resta)\n",
        "    print(\"****************************************************\")\n",
        "\n",
        "  elif  operacion == operadores[2] :  \n",
        "    print(\"-----------El resultado es:  \",la_multiplicacion)\n",
        "    print(\"****************************************************\")    \n",
        " \n",
        "  elif  operacion == operadores[3] :  \n",
        "    print(\"-----------El resultado es:  \",la_division)\n",
        "    print(\"****************************************************\") \n",
        "\n",
        "  elif  operacion == operadores[4] :  \n",
        "    print(\"-----------El resultado es:  \",la_division_qo)\n",
        "    print(\"****************************************************\") \n",
        " \n",
        "  elif operacion not in operadores: #Si la operación no hace parte de la definidas mas arriba, imprimira el error siguiente \n",
        "    print(\"  ---- ERROR 001 : ¡Operación desconocida!!!!!  --- \")\n",
        "    print(\" Seleccione uno de los operadores siguientes : + ; - ; * ; / ; // ; \")\n",
        "    print(\"****************************************************\") \n",
        "return\n",
        "  \n"
      ],
      "id": "pvNzIyeHnuNX",
      "execution_count": 7,
      "outputs": [
        {
          "output_type": "stream",
          "text": [
            "--- BIENVENIDO EN TU CALCULADORA ---\n"
          ],
          "name": "stdout"
        },
        {
          "output_type": "error",
          "ename": "KeyboardInterrupt",
          "evalue": "ignored",
          "traceback": [
            "\u001b[0;31m---------------------------------------------------------------------------\u001b[0m",
            "\u001b[0;31mKeyboardInterrupt\u001b[0m                         Traceback (most recent call last)",
            "\u001b[0;32m/usr/local/lib/python3.7/dist-packages/ipykernel/kernelbase.py\u001b[0m in \u001b[0;36m_input_request\u001b[0;34m(self, prompt, ident, parent, password)\u001b[0m\n\u001b[1;32m    728\u001b[0m             \u001b[0;32mtry\u001b[0m\u001b[0;34m:\u001b[0m\u001b[0;34m\u001b[0m\u001b[0;34m\u001b[0m\u001b[0m\n\u001b[0;32m--> 729\u001b[0;31m                 \u001b[0mident\u001b[0m\u001b[0;34m,\u001b[0m \u001b[0mreply\u001b[0m \u001b[0;34m=\u001b[0m \u001b[0mself\u001b[0m\u001b[0;34m.\u001b[0m\u001b[0msession\u001b[0m\u001b[0;34m.\u001b[0m\u001b[0mrecv\u001b[0m\u001b[0;34m(\u001b[0m\u001b[0mself\u001b[0m\u001b[0;34m.\u001b[0m\u001b[0mstdin_socket\u001b[0m\u001b[0;34m,\u001b[0m \u001b[0;36m0\u001b[0m\u001b[0;34m)\u001b[0m\u001b[0;34m\u001b[0m\u001b[0;34m\u001b[0m\u001b[0m\n\u001b[0m\u001b[1;32m    730\u001b[0m             \u001b[0;32mexcept\u001b[0m \u001b[0mException\u001b[0m\u001b[0;34m:\u001b[0m\u001b[0;34m\u001b[0m\u001b[0;34m\u001b[0m\u001b[0m\n",
            "\u001b[0;32m/usr/local/lib/python3.7/dist-packages/jupyter_client/session.py\u001b[0m in \u001b[0;36mrecv\u001b[0;34m(self, socket, mode, content, copy)\u001b[0m\n\u001b[1;32m    802\u001b[0m         \u001b[0;32mtry\u001b[0m\u001b[0;34m:\u001b[0m\u001b[0;34m\u001b[0m\u001b[0;34m\u001b[0m\u001b[0m\n\u001b[0;32m--> 803\u001b[0;31m             \u001b[0mmsg_list\u001b[0m \u001b[0;34m=\u001b[0m \u001b[0msocket\u001b[0m\u001b[0;34m.\u001b[0m\u001b[0mrecv_multipart\u001b[0m\u001b[0;34m(\u001b[0m\u001b[0mmode\u001b[0m\u001b[0;34m,\u001b[0m \u001b[0mcopy\u001b[0m\u001b[0;34m=\u001b[0m\u001b[0mcopy\u001b[0m\u001b[0;34m)\u001b[0m\u001b[0;34m\u001b[0m\u001b[0;34m\u001b[0m\u001b[0m\n\u001b[0m\u001b[1;32m    804\u001b[0m         \u001b[0;32mexcept\u001b[0m \u001b[0mzmq\u001b[0m\u001b[0;34m.\u001b[0m\u001b[0mZMQError\u001b[0m \u001b[0;32mas\u001b[0m \u001b[0me\u001b[0m\u001b[0;34m:\u001b[0m\u001b[0;34m\u001b[0m\u001b[0;34m\u001b[0m\u001b[0m\n",
            "\u001b[0;32m/usr/local/lib/python3.7/dist-packages/zmq/sugar/socket.py\u001b[0m in \u001b[0;36mrecv_multipart\u001b[0;34m(self, flags, copy, track)\u001b[0m\n\u001b[1;32m    582\u001b[0m         \"\"\"\n\u001b[0;32m--> 583\u001b[0;31m         \u001b[0mparts\u001b[0m \u001b[0;34m=\u001b[0m \u001b[0;34m[\u001b[0m\u001b[0mself\u001b[0m\u001b[0;34m.\u001b[0m\u001b[0mrecv\u001b[0m\u001b[0;34m(\u001b[0m\u001b[0mflags\u001b[0m\u001b[0;34m,\u001b[0m \u001b[0mcopy\u001b[0m\u001b[0;34m=\u001b[0m\u001b[0mcopy\u001b[0m\u001b[0;34m,\u001b[0m \u001b[0mtrack\u001b[0m\u001b[0;34m=\u001b[0m\u001b[0mtrack\u001b[0m\u001b[0;34m)\u001b[0m\u001b[0;34m]\u001b[0m\u001b[0;34m\u001b[0m\u001b[0;34m\u001b[0m\u001b[0m\n\u001b[0m\u001b[1;32m    584\u001b[0m         \u001b[0;31m# have first part already, only loop while more to receive\u001b[0m\u001b[0;34m\u001b[0m\u001b[0;34m\u001b[0m\u001b[0;34m\u001b[0m\u001b[0m\n",
            "\u001b[0;32mzmq/backend/cython/socket.pyx\u001b[0m in \u001b[0;36mzmq.backend.cython.socket.Socket.recv\u001b[0;34m()\u001b[0m\n",
            "\u001b[0;32mzmq/backend/cython/socket.pyx\u001b[0m in \u001b[0;36mzmq.backend.cython.socket.Socket.recv\u001b[0;34m()\u001b[0m\n",
            "\u001b[0;32mzmq/backend/cython/socket.pyx\u001b[0m in \u001b[0;36mzmq.backend.cython.socket._recv_copy\u001b[0;34m()\u001b[0m\n",
            "\u001b[0;32m/usr/local/lib/python3.7/dist-packages/zmq/backend/cython/checkrc.pxd\u001b[0m in \u001b[0;36mzmq.backend.cython.checkrc._check_rc\u001b[0;34m()\u001b[0m\n",
            "\u001b[0;31mKeyboardInterrupt\u001b[0m: ",
            "\nDuring handling of the above exception, another exception occurred:\n",
            "\u001b[0;31mKeyboardInterrupt\u001b[0m                         Traceback (most recent call last)",
            "\u001b[0;32m<ipython-input-7-7700b3f9261f>\u001b[0m in \u001b[0;36m<module>\u001b[0;34m()\u001b[0m\n\u001b[1;32m      4\u001b[0m \u001b[0;34m\u001b[0m\u001b[0m\n\u001b[1;32m      5\u001b[0m   \u001b[0;31m#declaramos EL PRIMER VALOR de entrada\u001b[0m\u001b[0;34m\u001b[0m\u001b[0;34m\u001b[0m\u001b[0;34m\u001b[0m\u001b[0m\n\u001b[0;32m----> 6\u001b[0;31m   \u001b[0ma\u001b[0m \u001b[0;34m=\u001b[0m \u001b[0minput\u001b[0m\u001b[0;34m(\u001b[0m\u001b[0;34m\" insertar el primer numero:    \"\u001b[0m\u001b[0;34m)\u001b[0m\u001b[0;34m\u001b[0m\u001b[0;34m\u001b[0m\u001b[0m\n\u001b[0m\u001b[1;32m      7\u001b[0m \u001b[0;34m\u001b[0m\u001b[0m\n\u001b[1;32m      8\u001b[0m   \u001b[0;31m#Seleccion de la operacion a realizar\u001b[0m\u001b[0;34m\u001b[0m\u001b[0;34m\u001b[0m\u001b[0;34m\u001b[0m\u001b[0m\n",
            "\u001b[0;32m/usr/local/lib/python3.7/dist-packages/ipykernel/kernelbase.py\u001b[0m in \u001b[0;36mraw_input\u001b[0;34m(self, prompt)\u001b[0m\n\u001b[1;32m    702\u001b[0m             \u001b[0mself\u001b[0m\u001b[0;34m.\u001b[0m\u001b[0m_parent_ident\u001b[0m\u001b[0;34m,\u001b[0m\u001b[0;34m\u001b[0m\u001b[0;34m\u001b[0m\u001b[0m\n\u001b[1;32m    703\u001b[0m             \u001b[0mself\u001b[0m\u001b[0;34m.\u001b[0m\u001b[0m_parent_header\u001b[0m\u001b[0;34m,\u001b[0m\u001b[0;34m\u001b[0m\u001b[0;34m\u001b[0m\u001b[0m\n\u001b[0;32m--> 704\u001b[0;31m             \u001b[0mpassword\u001b[0m\u001b[0;34m=\u001b[0m\u001b[0;32mFalse\u001b[0m\u001b[0;34m,\u001b[0m\u001b[0;34m\u001b[0m\u001b[0;34m\u001b[0m\u001b[0m\n\u001b[0m\u001b[1;32m    705\u001b[0m         )\n\u001b[1;32m    706\u001b[0m \u001b[0;34m\u001b[0m\u001b[0m\n",
            "\u001b[0;32m/usr/local/lib/python3.7/dist-packages/ipykernel/kernelbase.py\u001b[0m in \u001b[0;36m_input_request\u001b[0;34m(self, prompt, ident, parent, password)\u001b[0m\n\u001b[1;32m    732\u001b[0m             \u001b[0;32mexcept\u001b[0m \u001b[0mKeyboardInterrupt\u001b[0m\u001b[0;34m:\u001b[0m\u001b[0;34m\u001b[0m\u001b[0;34m\u001b[0m\u001b[0m\n\u001b[1;32m    733\u001b[0m                 \u001b[0;31m# re-raise KeyboardInterrupt, to truncate traceback\u001b[0m\u001b[0;34m\u001b[0m\u001b[0;34m\u001b[0m\u001b[0;34m\u001b[0m\u001b[0m\n\u001b[0;32m--> 734\u001b[0;31m                 \u001b[0;32mraise\u001b[0m \u001b[0mKeyboardInterrupt\u001b[0m\u001b[0;34m\u001b[0m\u001b[0;34m\u001b[0m\u001b[0m\n\u001b[0m\u001b[1;32m    735\u001b[0m             \u001b[0;32melse\u001b[0m\u001b[0;34m:\u001b[0m\u001b[0;34m\u001b[0m\u001b[0;34m\u001b[0m\u001b[0m\n\u001b[1;32m    736\u001b[0m                 \u001b[0;32mbreak\u001b[0m\u001b[0;34m\u001b[0m\u001b[0;34m\u001b[0m\u001b[0m\n",
            "\u001b[0;31mKeyboardInterrupt\u001b[0m: "
          ]
        }
      ]
    },
    {
      "cell_type": "code",
      "metadata": {
        "id": "8985379c"
      },
      "source": [
        ""
      ],
      "id": "8985379c",
      "execution_count": null,
      "outputs": []
    }
  ]
}